{
  "nbformat": 4,
  "nbformat_minor": 0,
  "metadata": {
    "colab": {
      "provenance": []
    },
    "kernelspec": {
      "name": "python3",
      "display_name": "Python 3"
    },
    "language_info": {
      "name": "python"
    }
  },
  "cells": [
    {
      "cell_type": "code",
      "execution_count": null,
      "metadata": {
        "id": "BreiSYrAQSzW"
      },
      "outputs": [],
      "source": []
    },
    {
      "cell_type": "markdown",
      "source": [
        "Muhammad Ridho 2106032"
      ],
      "metadata": {
        "id": "3rz_DJuUQa1b"
      }
    },
    {
      "cell_type": "code",
      "source": [
        "\n",
        "class Node(object):\n",
        "    \"\"\"This class represents a node in a graph.\"\"\"\n",
        "    \n",
        "    def __init__(self, label: str=None):\n",
        "        \"\"\"\n",
        "        Initialize a new node.\n",
        "        \n",
        "        Args:\n",
        "            label: the string identifier for the node\n",
        "        \"\"\"\n",
        "        self.label = label\n",
        "        self.children = []\n",
        "        \n",
        "    def __lt__(self,other):\n",
        "        \"\"\"\n",
        "        Perform the less than operation (self < other).\n",
        "        \n",
        "        Args:\n",
        "            other: the other Node to compare to\n",
        "        \"\"\"\n",
        "        return (self.label < other.label)\n",
        "    \n",
        "    def __gt__(self,other):\n",
        "        \"\"\"\n",
        "        Perform the greater than operation (self > other).\n",
        "        \n",
        "        Args:\n",
        "            other: the other Node to compare to\n",
        "        \"\"\"\n",
        "        return (self.label > other.label)\n",
        "    \n",
        "    def __repr__(self):\n",
        "        \"\"\"Return a string form of this node.\"\"\"\n",
        "        return '{} -> {}'.format(self.label, self.children)\n",
        "    \n",
        "    def add_child(self, node, cost=1):\n",
        "        \"\"\"\n",
        "        Add a child node to this node.\n",
        "        \n",
        "        Args:\n",
        "            node: the node to add to the children\n",
        "            cost: the cost of the edge (default 1)\n",
        "        \"\"\"\n",
        "        edge = Edge(self, node, cost)\n",
        "        self.children.append(edge)\n",
        "    \n",
        "    \n",
        "class Edge(object):\n",
        "    \"\"\"This class represents an edge in a graph.\"\"\"\n",
        "    \n",
        "    def __init__(self, source: Node, destination: Node, cost: int=1):\n",
        "        \"\"\"\n",
        "        Initialize a new edge.\n",
        "        \n",
        "        Args:\n",
        "            source: the source of the edge\n",
        "            destination: the destination of the edge\n",
        "            cost: the cost of the edge (default 1)\n",
        "        \"\"\"\n",
        "        self.source = source\n",
        "        self.destination = destination\n",
        "        self.cost = cost\n",
        "    \n",
        "    def __repr__(self):\n",
        "        \"\"\"Return a string form of this edge.\"\"\"\n",
        "        return '{}: {}'.format(self.cost, self.destination.label)"
      ],
      "metadata": {
        "id": "165Gj129Qktr"
      },
      "execution_count": 40,
      "outputs": []
    },
    {
      "cell_type": "code",
      "source": [
        "\n"
      ],
      "metadata": {
        "id": "-0nE8YFKW7qu"
      },
      "execution_count": null,
      "outputs": []
    }
  ]
}