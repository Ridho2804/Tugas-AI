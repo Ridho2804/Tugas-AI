{
  "nbformat": 4,
  "nbformat_minor": 0,
  "metadata": {
    "colab": {
      "provenance": []
    },
    "kernelspec": {
      "name": "python3",
      "display_name": "Python 3"
    },
    "language_info": {
      "name": "python"
    }
  },
  "cells": [
    {
      "cell_type": "code",
      "execution_count": null,
      "metadata": {
        "id": "BreiSYrAQSzW"
      },
      "outputs": [],
      "source": []
    },
    {
      "cell_type": "markdown",
      "source": [
        "Muhammad Ridho 2106032"
      ],
      "metadata": {
        "id": "3rz_DJuUQa1b"
      }
    },
    {
      "cell_type": "code",
      "source": [
        "\n",
        "\n",
        "      def main():\n",
        "        visited = set()\n",
        "        dfs_traversal = list()\n",
        "\n",
        "        graph = {\n",
        "            'A': ['B', 'C'],\n",
        "            'B': ['D', 'E'],\n",
        "            'C': ['F', 'G'],\n",
        "            'D': [],\n",
        "            'E': [],\n",
        "            'F': [],\n",
        "            'G': []\n",
        "        }\n",
        "\n",
        "        print(f\"DFS:{dfs(graph,'A',visited, dfs_traversal)}\")\n",
        "\n",
        "if __name__==\"__main__\":\n",
        "          main()"
      ],
      "metadata": {
        "colab": {
          "base_uri": "https://localhost:8080/"
        },
        "id": "165Gj129Qktr",
        "outputId": "0f3f85ab-c0aa-4078-a2f3-3d90349a2f9c"
      },
      "execution_count": 39,
      "outputs": [
        {
          "output_type": "stream",
          "name": "stdout",
          "text": [
            "DFS:['A', 'B', 'D']\n"
          ]
        }
      ]
    },
    {
      "cell_type": "code",
      "source": [
        "\n"
      ],
      "metadata": {
        "id": "-0nE8YFKW7qu"
      },
      "execution_count": null,
      "outputs": []
    }
  ]
}