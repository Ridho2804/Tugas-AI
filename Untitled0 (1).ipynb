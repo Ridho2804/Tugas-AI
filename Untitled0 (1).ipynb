{
  "nbformat": 4,
  "nbformat_minor": 0,
  "metadata": {
    "colab": {
      "provenance": []
    },
    "kernelspec": {
      "name": "python3",
      "display_name": "Python 3"
    },
    "language_info": {
      "name": "python"
    }
  },
  "cells": [
    {
      "cell_type": "code",
      "execution_count": null,
      "metadata": {
        "id": "BreiSYrAQSzW"
      },
      "outputs": [],
      "source": []
    },
    {
      "cell_type": "markdown",
      "source": [
        "Muhammad Ridho 2106032"
      ],
      "metadata": {
        "id": "3rz_DJuUQa1b"
      }
    },
    {
      "cell_type": "code",
      "source": [
        "def bfs(graph, source):\n",
        "  visited = set() # to keep track of already visited nodes\n",
        "  bfs_traversal = list() # the BFS traversal result\n",
        "  gueue = list() # queue\n",
        "\n",
        "# push the root node to the gueue and mark it as visited\n",
        "queue.append (source)\n",
        "visited.add(source)\n",
        "\n",
        "# loop until the queue is empty\n",
        "\n",
        "while queue:\n",
        "# pop the front node of the queue and add it to bfs_traversal\n",
        "     current_node = queue.pop(0)\n",
        "     bfs_traversal.append(current_node)\n",
        "\n",
        "# check all the neighbour nodes of the current node\n",
        "     for neighbour_node in graph(current_node):\n",
        "# if the neighbour nodes are not already visited,\n",
        "# push them to the queue and mark them as visited\n",
        "if neighbour_node  not in visited:\n",
        "          visited.add(neighbour_node)\n",
        "          queue.append(neighbour_node)\n",
        "\n",
        "return bfs traversal\n",
        "\n",
        "def main():\n",
        "  graph = {\n",
        "      'A': ['B', 'C'],\n",
        "      'B': ['A', 'D', 'E'],\n",
        "      'C': ['A', 'F', 'G'],\n",
        "      'D': ['B'],\n",
        "      'E': ['B'],\n",
        "      'F': ['C'],\n",
        "      'G': ['C']\n",
        "  }\n",
        "  bfs_traversal = bfs(graph,'A')\n",
        "  print(f\"BFS: {bfs_traversal}\")\n",
        "\n",
        "  if __name__=='__main__':\n",
        "    main()"
      ],
      "metadata": {
        "colab": {
          "base_uri": "https://localhost:8080/",
          "height": 130
        },
        "id": "165Gj129Qktr",
        "outputId": "7c1ca140-c2dc-49b8-f274-d8274538f9d3"
      },
      "execution_count": 30,
      "outputs": [
        {
          "output_type": "error",
          "ename": "IndentationError",
          "evalue": "ignored",
          "traceback": [
            "\u001b[0;36m  File \u001b[0;32m\"<ipython-input-30-78afb858e9d9>\"\u001b[0;36m, line \u001b[0;32m21\u001b[0m\n\u001b[0;31m    if neighbour_node  not in visited:\u001b[0m\n\u001b[0m                                      ^\u001b[0m\n\u001b[0;31mIndentationError\u001b[0m\u001b[0;31m:\u001b[0m expected an indented block\n"
          ]
        }
      ]
    },
    {
      "cell_type": "code",
      "source": [
        "\n"
      ],
      "metadata": {
        "id": "-0nE8YFKW7qu"
      },
      "execution_count": null,
      "outputs": []
    }
  ]
}