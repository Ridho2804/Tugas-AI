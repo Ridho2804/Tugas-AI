{
  "nbformat": 4,
  "nbformat_minor": 0,
  "metadata": {
    "colab": {
      "provenance": []
    },
    "kernelspec": {
      "name": "python3",
      "display_name": "Python 3"
    },
    "language_info": {
      "name": "python"
    }
  },
  "cells": [
    {
      "cell_type": "code",
      "execution_count": null,
      "metadata": {
        "id": "BreiSYrAQSzW"
      },
      "outputs": [],
      "source": []
    },
    {
      "cell_type": "markdown",
      "source": [
        "Muhammad Ridho 2106032"
      ],
      "metadata": {
        "id": "3rz_DJuUQa1b"
      }
    },
    {
      "cell_type": "markdown",
      "source": [],
      "metadata": {
        "id": "t-Af69Y60WZ3"
      }
    },
    {
      "cell_type": "code",
      "source": [
        "import queue\n",
        "import matplotlib.pyplot as plt \n",
        "\n",
        "\n",
        "def getHeuristics():\n",
        "    heuristics = {}\n",
        "    f = open(\"/heuristics.txt\")\n",
        "    for i in f.readlines():\n",
        "        node_heuristic_val = i.split()\n",
        "        heuristics[node_heuristic_val[0]]= int(node_heuristic_val[1])\n",
        "\n",
        "    return heuristics\n",
        "\n",
        "def getCity():\n",
        "    city = {}\n",
        "    citiesCode = {}\n",
        "    f = open(\"/cities.txt\")\n",
        "    j = 1 \n",
        "    for i in f.readlines():\n",
        "      node_city_val = i.split()\n",
        "      city[node_city_val[0]] = [int(node_city_val[1]), int(node_city_val[2])]\n",
        "\n",
        "      citiesCode[j] = node_city_val[0]\n",
        "      j += 1\n",
        "\n",
        "    return city, citiesCode\n",
        "\n",
        "\n",
        "\n",
        "def createGraph():\n",
        "    graph = {}\n",
        "    file = open(\"/citiesGraph.txt\")\n",
        "    for i in file.readlines():\n",
        "      node_val = i.split()\n",
        "\n",
        "      if node_val[0] in graph and node_val[1] in graph:\n",
        "          c = graph.get(node_val[0])\n",
        "          c.append([node_val[1], node_val[2]])\n",
        "          graph.update({node_val[0]: c})\n",
        "\n",
        "          c = graph.get(node_val[1])\n",
        "          c.append([node_val[0], node_val[2]])\n",
        "          graph.update({node_val[1]: c})\n",
        "\n",
        "      elif node_val[0] in graph:\n",
        "          c = graph.get(node_val[0])\n",
        "          c.append([node_val[1], node_val[2]])\n",
        "          graph.update({node_val[0]: c})\n",
        "\n",
        "          graph[node_val[1]] = [[node_val[0], node_val[2]]]\n",
        "      \n",
        "      elif node_val[1] in graph:\n",
        "          c = graph.get(node_val[1])\n",
        "          c.append([node_val[0], node_val[2]])\n",
        "          graph.update({node_val[1]: c})\n",
        "\n",
        "          graph[node_val[0]] = [[node_val[1], node_val[2]]]\n",
        "\n",
        "      else:\n",
        "           graph[node_val[0]] = [[node_val[1], node_val[2]]]\n",
        "           graph[node_val[1]] = [[node_val[0], node_val[2]]]\n",
        "\n",
        "    return graph\n",
        "\n",
        "\n",
        "def GBFS(startNode, heurustics, graph, goalNode=\"Bucharest\"):\n",
        "    priorityQueue = queue.PriorityQueue()\n",
        "    priorityQueue.put((heuristics[startNode],startNode))\n",
        "\n",
        "    path = []\n",
        "    \n",
        "    while priorityQueue.empty() == False:\n",
        "        current = priorityQueue.get()[1]\n",
        "        parh.append(current)\n",
        "\n",
        "        if current == goalNode:\n",
        "            break\n",
        "        priorityQueue = queue.PriorityQueue()\n",
        "\n",
        "        for i in graph[current]:\n",
        "            if i[0] not in path:\n",
        "                priorityQueue.put((heuristics[i[0]], i[0]))\n",
        "\n",
        "    return path\n",
        "\n",
        "\n",
        "def drawMap(city, gbfs, graph):\n",
        "    for i, j in city.items():\n",
        "        plt.plot(j[0], j[1], \"ro\")\n",
        "        plt.annotate(i, (j[0] + 5, j[1]))\n",
        "\n",
        "        for k in graph[i]:\n",
        "            n = city[k[0]]\n",
        "            plt.plot([j[0], n[0]], [j[1], n[1]], \"gray\")\n",
        "\n",
        "    for i in range(len(gbfs)):\n",
        "        try:\n",
        "            first = city[gbfs[i]]\n",
        "            secend = city[gbfs[i + 1]]\n",
        "\n",
        "            plt.plot([first[0], secend[0]], [first[1], secend[1]], \"green\")\n",
        "        except:\n",
        "            continue\n",
        "  \n",
        "  \n",
        "    plt.errorbar(1, 1, label=\"GBFS\", color=\"green\")\n",
        "    plt.legend(loc=\"lower left\")\n",
        "\n",
        "    plt.show()\n",
        "\n",
        "\n",
        "\n",
        "\n",
        "def main():\n",
        "    heuristic = getHeuristics()\n",
        "    graph = createGraph()\n",
        "    city, citiesCode = getCity()\n",
        "\n",
        "    for i, j in citiesCode.items():\n",
        "        print(i, j)\n",
        "\n",
        "    while True:\n",
        "        inputCode = int(input(\"Masukan nomor KOTA ASAL (0 UNTUK KELUAR:\"))\n",
        "\n",
        "        if inputCode == 0:\n",
        "            break\n",
        "\n",
        "        cityName = citiesCode[inputCode]\n",
        "\n",
        "        gbfs = GBFS(cityName, heuristic, graph)\n",
        "        print(\"GBFS => \", gbfs)\n",
        "        drawMap(ciyt, gbfs, graph)\n",
        "\n",
        "main()\n",
        "\n",
        "  \n",
        "\n",
        "\n",
        "\n",
        "\n",
        "\n",
        "\n",
        "\n"
      ],
      "metadata": {
        "id": "165Gj129Qktr",
        "colab": {
          "base_uri": "https://localhost:8080/"
        },
        "outputId": "3c0aab18-6f4d-4891-fe54-8cca11cafffb"
      },
      "execution_count": 50,
      "outputs": [
        {
          "name": "stdout",
          "output_type": "stream",
          "text": [
            "1 Arad\n",
            "2 Bucharest\n",
            "3 Craiova\n",
            "4 Dobreta\n",
            "5 Eforie\n",
            "6 Fagaras\n",
            "7 Giurgiu\n",
            "8 Hirsova\n",
            "9 Iasi\n",
            "10 Lugoj\n",
            "11 Mehadia\n",
            "12 Neamt\n",
            "13 Oradea\n",
            "14 Pitesti\n",
            "15 Rimnicu_Vilcea\n",
            "16 Sibiu\n",
            "17 Timisoara\n",
            "18 Urziceni\n",
            "19 Vaslui\n",
            "20 Zerind\n",
            "Masukan nomor KOTA ASAL (0 UNTUK KELUAR:0\n"
          ]
        }
      ]
    },
    {
      "cell_type": "code",
      "source": [],
      "metadata": {
        "id": "X1sPEuvu5QoY"
      },
      "execution_count": null,
      "outputs": []
    },
    {
      "cell_type": "code",
      "source": [
        "\n",
        "\n"
      ],
      "metadata": {
        "id": "-0nE8YFKW7qu"
      },
      "execution_count": 2,
      "outputs": []
    }
  ]
}