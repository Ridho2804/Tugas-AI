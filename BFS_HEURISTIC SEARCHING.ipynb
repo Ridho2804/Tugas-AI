{
  "nbformat": 4,
  "nbformat_minor": 0,
  "metadata": {
    "colab": {
      "provenance": []
    },
    "kernelspec": {
      "name": "python3",
      "display_name": "Python 3"
    },
    "language_info": {
      "name": "python"
    }
  },
  "cells": [
    {
      "cell_type": "code",
      "execution_count": null,
      "metadata": {
        "id": "BreiSYrAQSzW"
      },
      "outputs": [],
      "source": []
    },
    {
      "cell_type": "markdown",
      "source": [
        "Muhammad Ridho 2106032"
      ],
      "metadata": {
        "id": "3rz_DJuUQa1b"
      }
    },
    {
      "cell_type": "markdown",
      "source": [],
      "metadata": {
        "id": "t-Af69Y60WZ3"
      }
    },
    {
      "cell_type": "code",
      "source": [
        "from queue import PriorityQueue\n",
        "v = 14\n",
        "graph = [[] for i in range(v)]\n",
        "\n",
        "def best_first_search(actual_Src, target, n):\n",
        "  visited = [False] * n\n",
        "\n",
        "  pq = PriorityQueue()\n",
        "  pq.put((0, actual_Src))\n",
        "  visited[actual_Src] = True\n",
        "\n",
        "  while pq.empty() == False:\n",
        "    u = pq.get()[1]\n",
        "\n",
        "    print(u, end=\" \")\n",
        "    if u == target:\n",
        "      break\n",
        "    for v, c in graph[u]:\n",
        "      if visited[v] == False:\n",
        "          visited[v] = True\n",
        "          pq.put((c, v))\n",
        "        \n",
        "  print()\n",
        "\n",
        "  printPQ(pq)\n",
        "\n",
        "def printPQ(pq):\n",
        "  while not pq.empty():\n",
        "    item = pq.get()\n",
        "    print(item)\n",
        "\n",
        "def addedge(x, y, cost):\n",
        "    graph[x].append((y, cost))\n",
        "    graph[y].append((x, cost))      \n",
        "\n",
        "addedge(0, 1, 3)\n",
        "addedge(0, 2, 6)\n",
        "addedge(0, 3, 5)\n",
        "addedge(1, 4, 9)\n",
        "addedge(1, 5, 8)\n",
        "addedge(2, 6, 12)\n",
        "addedge(2, 7, 14)\n",
        "addedge(3, 8, 7)\n",
        "addedge(8, 9, 5)\n",
        "addedge(8, 10, 6)\n",
        "addedge(9, 11, 1)\n",
        "addedge(9, 12, 10)\n",
        "addedge(9, 13, 2)\n",
        "\n",
        "source = 0\n",
        "target = 9\n",
        "best_first_search(source, target, v)\n"
      ],
      "metadata": {
        "id": "165Gj129Qktr",
        "colab": {
          "base_uri": "https://localhost:8080/"
        },
        "outputId": "4839e523-2782-440a-a2cc-4aa9b43f85e3"
      },
      "execution_count": 4,
      "outputs": [
        {
          "output_type": "stream",
          "name": "stdout",
          "text": [
            "0 1 3 2 8 9 \n",
            "(6, 10)\n",
            "(8, 5)\n",
            "(9, 4)\n",
            "(12, 6)\n",
            "(14, 7)\n"
          ]
        }
      ]
    },
    {
      "cell_type": "code",
      "source": [],
      "metadata": {
        "id": "X1sPEuvu5QoY"
      },
      "execution_count": null,
      "outputs": []
    },
    {
      "cell_type": "code",
      "source": [
        "\n",
        "\n"
      ],
      "metadata": {
        "id": "-0nE8YFKW7qu"
      },
      "execution_count": 2,
      "outputs": []
    }
  ]
}